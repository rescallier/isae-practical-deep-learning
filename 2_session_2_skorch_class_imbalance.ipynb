{
 "cells": [
  {
   "cell_type": "markdown",
   "metadata": {},
   "source": [
    "# Session 2 Part 1: Going Further, Discovering class-imbalance in datasets\n",
    "\n",
    "Since we have done the most basic training example, got our hands on skorch and on the dataset, we are going to repeat our process using a more realistic use case. This time, our dataset will be severely unbalanced (10% of all data will be images of aircrafts).\n",
    "\n",
    "You are going to:\n",
    "- Do a first \"naive\" run with the full data\n",
    "- Diagnose performance\n",
    "- Try to improve it by tuning several factors:\n",
    "  - The dataset itself\n",
    "  - The optimization parameters\n",
    "  - The network architecture\n",
    "\n",
    "**Remember that \"deep learning\" is still considered somewhat a black art so it's hard to know in advance what will work.**\n"
   ]
  },
  {
   "cell_type": "code",
   "execution_count": null,
   "metadata": {},
   "outputs": [],
   "source": [
    "# Put your imports here\n",
    "import numpy as np"
   ]
  },
  {
   "cell_type": "code",
   "execution_count": null,
   "metadata": {},
   "outputs": [],
   "source": [
    "# Global variables\n",
    "TRAINVAL_DATASET_URL = \"https://storage.googleapis.com/isae-deep-learning/trainval_aircraft_dataset.npz\""
   ]
  },
  {
   "cell_type": "markdown",
   "metadata": {},
   "source": [
    "## Q0. Downloading the dataset\n",
    "\n",
    "You will get the following:\n",
    "\n",
    "- 45k images in training which you should use as training & validation\n",
    "- 15k images in test, which you should only use to compute your final metrics on. Don't ever use this dataset for early stopping"
   ]
  },
  {
   "cell_type": "code",
   "execution_count": null,
   "metadata": {},
   "outputs": [],
   "source": [
    "# Download the dataset\n",
    "ds = np.DataSource(\"/tmp/\")\n",
    "f = ds.open(TRAINVAL_DATASET_URL, 'rb')\n",
    "trainval_dataset = np.load(f)\n",
    "train_images = trainval_dataset['train_images']\n",
    "train_labels = trainval_dataset['train_labels']\n",
    "test_images = trainval_dataset['test_images']\n",
    "test_labels = trainval_dataset['test_labels']"
   ]
  },
  {
   "cell_type": "code",
   "execution_count": null,
   "metadata": {},
   "outputs": [],
   "source": [
    "# Split the dataset"
   ]
  },
  {
   "cell_type": "markdown",
   "metadata": {},
   "source": [
    "## Q1. During Session 1, you learnt how to set up your environment on GCP, train a basic CNN on a small training set and plot metrics. Now let's do it again !\n",
    "\n",
    "### First run\n",
    "\n",
    "Once you have downloaded data, use the notebook from Session 1 to get:\n",
    "\n",
    "a. Visualisation of the data\n",
    "\n",
    "b. Training of the model using steps seen during Session 1\n",
    "\n",
    "c. Compute and plot metrics (confusion matrix, ROC curve) based on this training\n",
    "\n",
    "d. Compare the metrics between this new dataset and the one from Session 1\n",
    "\n",
    "e. What did you expect ?"
   ]
  },
  {
   "cell_type": "code",
   "execution_count": null,
   "metadata": {},
   "outputs": [],
   "source": [
    "# Q1"
   ]
  },
  {
   "cell_type": "markdown",
   "metadata": {},
   "source": [
    "During the previous notebook you plotted the Receiver Operating Characteristic curve. This is not ideal when dealing with imbalanced dataset since the issue of class imbalance can result in a serious bias towards the majority class, reducing the classification performance and increasing the number of **false positives**. Furthermore, in ROC curve calculation, true negatives don't have such meaning any longer.\n",
    "\n",
    "Instead this time we will plot the Precision Recall curve of our model which uses precision and recall to evaluate models.\n",
    "\n",
    "![](https://cdn-images-1.medium.com/fit/t/1600/480/1*Ub0nZTXYT8MxLzrz0P7jPA.png)\n",
    "\n",
    "Refer here for a tutorial on how to plot such curve: https://scikit-learn.org/stable/modules/generated/sklearn.metrics.precision_recall_curve.html\n",
    "\n",
    "More details on PR Curve:\n",
    "https://scikit-learn.org/stable/auto_examples/model_selection/plot_precision_recall.html\n",
    "\n",
    "https://www.datascienceblog.net/post/machine-learning/interpreting-roc-curves-auc/"
   ]
  },
  {
   "cell_type": "markdown",
   "metadata": {},
   "source": [
    "### Imbalanced dataset diagnostics \n",
    "\n",
    "e. Can you understand why PR curve are better than ROC curve for diagnosing model performance when dealing with imbalanced data ?\n",
    "\n",
    "f. Plot the ROC curve of your model as well as its AUC"
   ]
  },
  {
   "cell_type": "code",
   "execution_count": null,
   "metadata": {},
   "outputs": [],
   "source": [
    "# e & f here"
   ]
  },
  {
   "cell_type": "markdown",
   "metadata": {},
   "source": [
    "## Q2. Let's improve our model's performance\n",
    "\n",
    "We will try several things below. Those steps are only indicative and you are free to pursue other means of improving your model.\n",
    "\n",
    "Should you be lost, we refer you to the excellent \"A Recipe for Training Neural Networks\" article : https://karpathy.github.io/2019/04/25/recipe/\n",
    "\n",
    "![image.png](docs/static/img/mlsystem.png)"
   ]
  },
  {
   "cell_type": "markdown",
   "metadata": {},
   "source": [
    "### a. Solving the imbalanced data problem\n",
    "\n",
    "Go through your data: is the dataset balanced ? If now, which steps can I do to solve this imbalance problem ?\n",
    "\n",
    "If you need help on this step, refer [to this tutorial on how to tackle imbalanced dataset](https://developers.google.com/machine-learning/data-prep/construct/sampling-splitting/imbalanced-data)\n",
    "\n",
    "- Which step would you take ?\n",
    "- **Don't forget to apply the same step on you train and validation dataset**\n",
    "\n",
    "Try to decide and a method to modify only the dataset and rerun your training. Did performance improve ?"
   ]
  },
  {
   "cell_type": "code",
   "execution_count": null,
   "metadata": {},
   "outputs": [],
   "source": [
    "# Q2.a here"
   ]
  },
  {
   "cell_type": "markdown",
   "metadata": {},
   "source": [
    "### b. Optimizer and model modifications\n",
    "\n",
    "i ) Now that you have worked on your dataset and decided to undersample it, it's time to tune your network and your training configuration\n",
    "\n",
    "In Session 1, you tested two descent gradient. What is the effect of its modification? Apply it to your training and compare metrics.\n",
    "\n",
    "ii ) An other important parameter is the learning rate, you can [check its effect on the behavior of your training](https://developers.google.com/machine-learning/crash-course/fitter/graph).\n",
    "\n",
    "iii) There is no absolute law concerning the structure of your deep Learning model. During the [Deep Learning class](https://github.com/erachelson/MLclass/blob/master/7%20-%20Deep%20Learning/Deep%20Learning.ipynb) you had an overview of existing models\n",
    "\n",
    "You can operate a modification on your structure and observe the effect on final metrics. Of course, remain consistent with credible models, cf Layer Patterns chapter on this \"must view\" course : http://cs231n.github.io/convolutional-networks/\n",
    "\n",
    "![image.png](docs/static/img/comparison_architectures.png)"
   ]
  },
  {
   "cell_type": "code",
   "execution_count": null,
   "metadata": {},
   "outputs": [],
   "source": [
    "# Q2.b here"
   ]
  },
  {
   "cell_type": "markdown",
   "metadata": {},
   "source": [
    "### c. Going Further\n",
    "\n",
    "Here is an overview of [possible hyperparameter tuning when training Convolutional Neural Networks](https://towardsdatascience.com/hyper-parameter-tuning-techniques-in-deep-learning-4dad592c63c8)\n",
    "\n",
    "You can try and apply those techniques to your use case.\n",
    "\n",
    "- Does these techniques yield good results ? What about the effort-spent-for-performance ratio ?\n",
    "- Do you find it easy to keep track of your experiments ?\n",
    "- What would you need to have a better overview of the effects of these search ?\n",
    "\n",
    "Don't spend too much time on this part as the next is more important. You can come back to it after you're finished"
   ]
  },
  {
   "cell_type": "code",
   "execution_count": null,
   "metadata": {},
   "outputs": [],
   "source": [
    "# Q2.c here"
   ]
  },
  {
   "cell_type": "markdown",
   "metadata": {},
   "source": [
    "## Q3. Full Test whole dataset & more improvements\n",
    "\n",
    "a. Now that you have optimised your structure for your dataset, you will apply your model to the test dataset to see the final metrics. Plot all your metrics using the full imbalanced test set. Is it good enough ?\n",
    "If you think so, you can apply it to new images using the sliding window technique with the 3rd notebook\n",
    "\n",
    "\n",
    "Did it bring any improvements ?"
   ]
  },
  {
   "cell_type": "code",
   "execution_count": null,
   "metadata": {},
   "outputs": [],
   "source": [
    "# Q3a"
   ]
  },
  {
   "cell_type": "markdown",
   "metadata": {},
   "source": [
    "b. If you're not satisfied with the output of your model, consider the following idea: Training a new model with the failures of your previous model.\n",
    "Try the following:\n",
    "- Get all the images with the \"aircraft\" label\n",
    "- Get all the images with the \"background\" label where your best model was wrong (predicted aircraft), as well as some of the background where it was right.\n",
    "- Train a new model or retrain your existing one on this dataset.\n"
   ]
  },
  {
   "cell_type": "code",
   "execution_count": null,
   "metadata": {
    "ExecuteTime": {
     "end_time": "2019-12-02T09:38:20.819204Z",
     "start_time": "2019-12-02T09:38:20.814930Z"
    }
   },
   "outputs": [],
   "source": [
    "# Q3b"
   ]
  },
  {
   "cell_type": "markdown",
   "metadata": {},
   "source": [
    "c . **!!!! SAVE YOUR MODEL !!!**\n",
    "\n",
    "https://skorch.readthedocs.io/en/latest/user/save_load.html#saving-and-loading"
   ]
  },
  {
   "cell_type": "code",
   "execution_count": null,
   "metadata": {
    "ExecuteTime": {
     "end_time": "2019-12-02T09:38:20.058851Z",
     "start_time": "2019-12-02T09:38:20.056895Z"
    }
   },
   "outputs": [],
   "source": [
    "# Q3c"
   ]
  },
  {
   "cell_type": "markdown",
   "metadata": {},
   "source": [
    "**Have you saved your model ??** You will need it for the next notebook"
   ]
  },
  {
   "cell_type": "code",
   "execution_count": null,
   "metadata": {},
   "outputs": [],
   "source": []
  }
 ],
 "metadata": {
  "jupytext": {
   "cell_metadata_json": true
  },
  "kernelspec": {
   "display_name": "Python 3",
   "language": "python",
   "name": "python3"
  },
  "language_info": {
   "codemirror_mode": {
    "name": "ipython",
    "version": 3
   },
   "file_extension": ".py",
   "mimetype": "text/x-python",
   "name": "python",
   "nbconvert_exporter": "python",
   "pygments_lexer": "ipython3",
   "version": "3.6.8"
  }
 },
 "nbformat": 4,
 "nbformat_minor": 2
}
