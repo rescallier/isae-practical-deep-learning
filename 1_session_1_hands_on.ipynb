{
  "nbformat": 4,
  "nbformat_minor": 0,
  "metadata": {
    "jupytext": {
      "cell_metadata_json": true
    },
    "kernelspec": {
      "name": "python3",
      "display_name": "Python 3"
    },
    "language_info": {
      "codemirror_mode": {
        "name": "ipython",
        "version": 3
      },
      "file_extension": ".py",
      "mimetype": "text/x-python",
      "name": "python",
      "nbconvert_exporter": "python",
      "pygments_lexer": "ipython3",
      "version": "3.6.8"
    },
    "colab": {
      "name": "1_session_1_hands_on.ipynb",
      "provenance": []
    },
    "accelerator": "GPU"
  },
  "cells": [
    {
      "cell_type": "markdown",
      "metadata": {
        "id": "Fs8QjkmOsyWp",
        "colab_type": "text"
      },
      "source": [
        "# Session 1 : Training your first aircraft detector with pytorch\n",
        "\n",
        "**Intro**\n",
        "\n",
        "The objectives of this session is to apply what you learned during [the previous class on Deep Learning](https://github.com/erachelson/MLclass/blob/master/7%20-%20Deep%20Learning/Deep%20Learning.ipynb) on a real dataset of satellite images.\n",
        "\n",
        "Most of the vocabulary and concepts of Deep Learning and Convolutionnal Neural Network has been defined on the notebook linked above so you should refer to it.\n",
        "\n",
        "The objective of the first session is to apply what was detailed above on another dataset using higher level tools such as [skorch](https://github.com/skorch-dev/skorch).\n",
        "\n",
        "In this session you will:\n",
        "- Get a preview of using skorch\n",
        "- Train a basic NN on a basic dataset\n",
        "- Plot ROC curve & confusion matrix to diagnose your dataset\n",
        "\n",
        "During session 2 you will be experimenting with harder datasets"
      ]
    },
    {
      "cell_type": "code",
      "metadata": {
        "ExecuteTime": {
          "end_time": "2019-12-02T10:19:50.171853Z",
          "start_time": "2019-12-02T10:19:48.977494Z"
        },
        "id": "qY6WPiLYsyWv",
        "colab_type": "code",
        "colab": {
          "base_uri": "https://localhost:8080/",
          "height": 208
        },
        "outputId": "8f8a572d-27b5-49ef-b6dd-6c353764ddb6"
      },
      "source": [
        "# install dependencies\n",
        "%pip install skorch"
      ],
      "execution_count": 1,
      "outputs": [
        {
          "output_type": "stream",
          "text": [
            "Collecting skorch\n",
            "\u001b[?25l  Downloading https://files.pythonhosted.org/packages/fb/1e/cc4e1f23cd1faab06672f309e0857294aaa80c5f84670f4d3d19b08ab10b/skorch-0.7.0-py3-none-any.whl (105kB)\n",
            "\r\u001b[K     |███                             | 10kB 24.4MB/s eta 0:00:01\r\u001b[K     |██████▏                         | 20kB 4.1MB/s eta 0:00:01\r\u001b[K     |█████████▎                      | 30kB 5.9MB/s eta 0:00:01\r\u001b[K     |████████████▍                   | 40kB 7.5MB/s eta 0:00:01\r\u001b[K     |███████████████▌                | 51kB 4.8MB/s eta 0:00:01\r\u001b[K     |██████████████████▌             | 61kB 5.7MB/s eta 0:00:01\r\u001b[K     |█████████████████████▋          | 71kB 6.5MB/s eta 0:00:01\r\u001b[K     |████████████████████████▊       | 81kB 7.2MB/s eta 0:00:01\r\u001b[K     |███████████████████████████▉    | 92kB 8.0MB/s eta 0:00:01\r\u001b[K     |███████████████████████████████ | 102kB 6.3MB/s eta 0:00:01\r\u001b[K     |████████████████████████████████| 112kB 6.3MB/s \n",
            "\u001b[?25hRequirement already satisfied: tqdm>=4.14.0 in /usr/local/lib/python3.6/dist-packages (from skorch) (4.28.1)\n",
            "Requirement already satisfied: numpy>=1.13.3 in /usr/local/lib/python3.6/dist-packages (from skorch) (1.17.4)\n",
            "Requirement already satisfied: scikit-learn>=0.19.1 in /usr/local/lib/python3.6/dist-packages (from skorch) (0.21.3)\n",
            "Requirement already satisfied: scipy>=1.1.0 in /usr/local/lib/python3.6/dist-packages (from skorch) (1.3.2)\n",
            "Requirement already satisfied: tabulate>=0.7.7 in /usr/local/lib/python3.6/dist-packages (from skorch) (0.8.5)\n",
            "Requirement already satisfied: joblib>=0.11 in /usr/local/lib/python3.6/dist-packages (from scikit-learn>=0.19.1->skorch) (0.14.0)\n",
            "Installing collected packages: skorch\n",
            "Successfully installed skorch-0.7.0\n"
          ],
          "name": "stdout"
        }
      ]
    },
    {
      "cell_type": "code",
      "metadata": {
        "ExecuteTime": {
          "end_time": "2019-12-02T10:19:50.283500Z",
          "start_time": "2019-12-02T10:19:50.177216Z"
        },
        "id": "6OFdrhvOsyW8",
        "colab_type": "code",
        "colab": {}
      },
      "source": [
        "# Put your imports here\n",
        "import numpy as np"
      ],
      "execution_count": 0,
      "outputs": []
    },
    {
      "cell_type": "code",
      "metadata": {
        "ExecuteTime": {
          "end_time": "2019-12-02T10:19:50.679612Z",
          "start_time": "2019-12-02T10:19:50.677023Z"
        },
        "id": "UZdsfdaOsyXF",
        "colab_type": "code",
        "colab": {}
      },
      "source": [
        "# Configuration variables\n",
        "TOY_DATASET_URL = \"https://storage.googleapis.com/isae-deep-learning/toy_aircraft_dataset.npz\""
      ],
      "execution_count": 0,
      "outputs": []
    },
    {
      "cell_type": "markdown",
      "metadata": {
        "id": "plmUaamgsyXL",
        "colab_type": "text"
      },
      "source": [
        "## Downloading the dataset\n",
        "\n",
        "We will be using [numpy datasources](https://docs.scipy.org/doc/numpy/reference/generated/numpy.DataSource.html?highlight=datasources) to download the dataset. DataSources can be local files or remote files/URLs. The files may also be compressed or uncompressed. DataSource hides some of the low-level details of downloading the file, allowing you to simply pass in a valid file path (or URL) and obtain a file object.\n",
        "\n",
        "The dataset is in npz format which is a packaging format where we store several numpy arrays in key-value format\n",
        "\n",
        "Note:\n",
        "If you get an error with the code below run:\n",
        "```python\n",
        "!gsutil -m cp -r gs://isae-deep-learning/toy_aircraft_dataset.npz /tmp/storage.googleapis.com/isae-deep-learning/toy_aircraft_dataset.npz\n",
        "```\n",
        "in a cell above the cell below"
      ]
    },
    {
      "cell_type": "code",
      "metadata": {
        "ExecuteTime": {
          "end_time": "2019-12-02T10:19:51.795534Z",
          "start_time": "2019-12-02T10:19:51.560763Z"
        },
        "id": "3ZBV-GmSsyXO",
        "colab_type": "code",
        "colab": {}
      },
      "source": [
        "ds = np.DataSource(destpath=\"/tmp/\")\n",
        "f = ds.open(TOY_DATASET_URL, 'rb')\n",
        "\n",
        "toy_dataset = np.load(f)\n",
        "train_images = toy_dataset['train_images']\n",
        "train_labels = toy_dataset['train_labels']\n",
        "test_images = toy_dataset['test_images']\n",
        "test_labels = toy_dataset['test_labels']"
      ],
      "execution_count": 0,
      "outputs": []
    },
    {
      "cell_type": "code",
      "metadata": {
        "id": "p4IzZMdBuLYY",
        "colab_type": "code",
        "colab": {
          "base_uri": "https://localhost:8080/",
          "height": 34
        },
        "outputId": "3af2270a-c671-452e-c415-ce76a248ed9c"
      },
      "source": [
        "toy_dataset"
      ],
      "execution_count": 7,
      "outputs": [
        {
          "output_type": "execute_result",
          "data": {
            "text/plain": [
              "<numpy.lib.npyio.NpzFile at 0x7fd3576dfe10>"
            ]
          },
          "metadata": {
            "tags": []
          },
          "execution_count": 7
        }
      ]
    },
    {
      "cell_type": "markdown",
      "metadata": {
        "ExecuteTime": {
          "end_time": "2019-12-02T08:45:38.415885Z",
          "start_time": "2019-12-02T08:45:38.408175Z"
        },
        "id": "n0frZ3FcsyXU",
        "colab_type": "text"
      },
      "source": [
        "### A bit about train-test \n",
        "\n",
        "You just downloaded a training and a test set.\n",
        "skorch will automatically split your training dataset into training and validation.\n",
        "- We use the training set for forward/backward \n",
        "- We use the validation set to tune hyperparameters (optimizers, early stopping)\n",
        "- We use the test set for final metrics on our tuned model\n",
        "\n",
        "![](https://i.stack.imgur.com/osBuF.png)\n",
        "\n",
        "For more information as to why we use train/validation and test refer to this article:\n",
        "https://towardsdatascience.com/train-validation-and-test-sets-72cb40cba9e7"
      ]
    },
    {
      "cell_type": "markdown",
      "metadata": {
        "id": "mNWyrBY1syXW",
        "colab_type": "text"
      },
      "source": [
        "## A bit of data exploration"
      ]
    },
    {
      "cell_type": "markdown",
      "metadata": {
        "id": "w1FdslfEsyXZ",
        "colab_type": "text"
      },
      "source": [
        "Q1. Labels counting\n",
        "a. What is the dataset size ?\n",
        "\n",
        "b. How many images representing aircrafts ?\n",
        "\n",
        "c. How many images representing backgrounds ?\n",
        "\n",
        "d. What are the dimensions (height and width) of the images ? What are the number of channels ?"
      ]
    },
    {
      "cell_type": "markdown",
      "metadata": {
        "id": "eGKUVN5GsyXa",
        "colab_type": "text"
      },
      "source": [
        "Q2. Can you plot at least 8 examples of each label ? In a 4x4 grid ?"
      ]
    },
    {
      "cell_type": "markdown",
      "metadata": {
        "id": "lovxFKrCsyXc",
        "colab_type": "text"
      },
      "source": [
        "Here are some functionnality examples. Try them and make your own. A well-understandood dataset is the key to an efficient model."
      ]
    },
    {
      "cell_type": "code",
      "metadata": {
        "ExecuteTime": {
          "end_time": "2019-12-02T10:19:54.231048Z",
          "start_time": "2019-12-02T10:19:54.057651Z"
        },
        "id": "Q-LLhC2psyXd",
        "colab_type": "code",
        "colab": {}
      },
      "source": [
        "import cv2\n",
        "import matplotlib.pyplot as plt\n",
        "\n",
        "%matplotlib inline"
      ],
      "execution_count": 0,
      "outputs": []
    },
    {
      "cell_type": "code",
      "metadata": {
        "ExecuteTime": {
          "end_time": "2019-12-02T10:19:54.308402Z",
          "start_time": "2019-12-02T10:19:54.304389Z"
        },
        "id": "r74GsuuKsyXk",
        "colab_type": "code",
        "colab": {}
      },
      "source": [
        "LABEL_NAMES = [\"Not an aircraft\", \"Aircraft\"]\n",
        "\n",
        "print(\"Labels counts :\")\n",
        "\n",
        "for c, l, label in zip(*np.unique(train_labels, return_counts=True), LABEL_NAMES):\n",
        "    print(f\" Label: {label} , value: {l}, count: {c}\")"
      ],
      "execution_count": 0,
      "outputs": []
    },
    {
      "cell_type": "code",
      "metadata": {
        "ExecuteTime": {
          "end_time": "2019-12-02T10:19:54.521202Z",
          "start_time": "2019-12-02T10:19:54.506168Z"
        },
        "id": "-f69Cg70syXr",
        "colab_type": "code",
        "colab": {}
      },
      "source": [
        "for l, label in enumerate(LABEL_NAMES):\n",
        "    print(f\"Examples shape for label {l} : {train_images[train_labels == l, ::].shape}\")"
      ],
      "execution_count": 0,
      "outputs": []
    },
    {
      "cell_type": "code",
      "metadata": {
        "ExecuteTime": {
          "end_time": "2019-12-02T10:19:55.709282Z",
          "start_time": "2019-12-02T10:19:55.423639Z"
        },
        "id": "qsMivlaPsyXx",
        "colab_type": "code",
        "colab": {}
      },
      "source": [
        "grid_size = 4\n",
        "grid = np.zeros((grid_size * 64, grid_size * 64, 3)).astype(np.uint8)\n",
        "for i in range(grid_size):\n",
        "    for j in range(grid_size):\n",
        "        tile = np.copy(train_images[i * grid_size + j])\n",
        "        label = np.copy(train_labels[i * grid_size + j])\n",
        "        color = (0, 255, 0) if label == 1 else (255, 0, 0)\n",
        "        tile = cv2.rectangle(tile, (0, 0), (64, 64), color, thickness=2)\n",
        "        grid[i * 64:(i + 1) * 64, j * 64:(j + 1) * 64, :] = tile\n",
        "\n",
        "fig = plt.figure(figsize=(10, 10))\n",
        "ax = fig.add_subplot(1, 1, 1)\n",
        "ax.imshow(grid)\n",
        "plt.show()"
      ],
      "execution_count": 0,
      "outputs": []
    },
    {
      "cell_type": "markdown",
      "metadata": {
        "id": "wlIU3IbfsyX2",
        "colab_type": "text"
      },
      "source": [
        "# Training\n",
        "\n",
        "In order to simplify the code, we will use the [skorch](https://github.com/skorch-dev/skorch) library. It provides a convenient wrapper and avoid the need of re writing the training loop eah time:\n",
        "\n",
        "```python\n",
        "for epoch in range(10):\n",
        "    for batch in batches:\n",
        "        # torch forward\n",
        "        # torch backward\n",
        "```\n",
        "\n",
        "If you still prefer writing your own loop, feel free to overwrite the next cells.\n",
        "\n",
        "If you need any help with functionalities of skorch, you [can find here](https://nbviewer.jupyter.org/github/skorch-dev/skorch/tree/master/notebooks/) the reference notebooks of the library"
      ]
    },
    {
      "cell_type": "code",
      "metadata": {
        "ExecuteTime": {
          "end_time": "2019-12-02T10:19:57.728717Z",
          "start_time": "2019-12-02T10:19:57.161194Z"
        },
        "id": "jGdkx-05syX5",
        "colab_type": "code",
        "colab": {}
      },
      "source": [
        "from skorch import NeuralNetClassifier\n",
        "import torch\n",
        "import torch.nn as nn\n",
        "import torch.optim as optim"
      ],
      "execution_count": 0,
      "outputs": []
    },
    {
      "cell_type": "code",
      "metadata": {
        "ExecuteTime": {
          "end_time": "2019-12-02T10:19:58.168063Z",
          "start_time": "2019-12-02T10:19:58.131986Z"
        },
        "id": "GO_-MA_jsyX9",
        "colab_type": "code",
        "colab": {}
      },
      "source": [
        "# Define the torch model to use\n",
        "# Here a sequential layer is used instead of the classical nn.Module\n",
        "# If you need to write your own module, plenty of resources are available one the web or in deep learning course\n",
        "module = nn.Sequential(\n",
        "    nn.Conv2d(3, 64, 3),\n",
        "    nn.BatchNorm2d(64),\n",
        "    nn.ReLU(),\n",
        "    nn.MaxPool2d(2),\n",
        "    nn.Conv2d(64, 64, 3),\n",
        "    nn.BatchNorm2d(64),\n",
        "    nn.ReLU(),\n",
        "    nn.MaxPool2d(2),\n",
        "    nn.Conv2d(64, 64, 3),\n",
        "    nn.BatchNorm2d(64),\n",
        "    nn.ReLU(),\n",
        "    nn.MaxPool2d(2),\n",
        "    nn.Flatten(),\n",
        "    nn.Linear(6 * 6 * 64, 256),\n",
        "    nn.Linear(256, 256),\n",
        "    nn.ReLU(),\n",
        "    nn.Linear(256, 2),\n",
        "    nn.Softmax(),\n",
        ")"
      ],
      "execution_count": 0,
      "outputs": []
    },
    {
      "cell_type": "code",
      "metadata": {
        "ExecuteTime": {
          "end_time": "2019-12-02T10:19:59.009228Z",
          "start_time": "2019-12-02T10:19:59.004501Z"
        },
        "id": "ufpyF95VsyYC",
        "colab_type": "code",
        "colab": {}
      },
      "source": [
        "# The famous skorch wrapper useful yet not complex and it has a sklearn friendly API\n",
        "\n",
        "net = NeuralNetClassifier(\n",
        "    module,\n",
        "    max_epochs=10,\n",
        "    lr=0.01,\n",
        "    # Shuffle training data on each epoch\n",
        "    iterator_train__shuffle=True,\n",
        "    device=\"cuda\" if torch.cuda.is_available() else \"cpu\",\n",
        "    optimizer=optim.SGD)"
      ],
      "execution_count": 0,
      "outputs": []
    },
    {
      "cell_type": "code",
      "metadata": {
        "ExecuteTime": {
          "end_time": "2019-12-02T08:20:16.319712Z",
          "start_time": "2019-12-02T08:19:53.643166Z"
        },
        "id": "Obw1Moo1syYG",
        "colab_type": "code",
        "colab": {}
      },
      "source": [
        "# The training loop\n",
        "# Each epoch should take at most 1 second since we are executing the network on a GPU\n",
        "\n",
        "net.fit(train_images.transpose((0, 3, 1, 2)).astype(np.float32), train_labels)"
      ],
      "execution_count": 0,
      "outputs": []
    },
    {
      "cell_type": "markdown",
      "metadata": {
        "id": "InRkkbqTsyYK",
        "colab_type": "text"
      },
      "source": [
        "# Testing and metrics\n",
        "\n",
        "Now that we have a trained network, it is important to measure how well it performs.\n",
        "\n",
        "You can refer to your ML course or on resources on the web to see how we can measure it.\n",
        "\n",
        "\n",
        "## Confusion matrix\n",
        "Here, we are first computing the [confusion matrix]():"
      ]
    },
    {
      "cell_type": "code",
      "metadata": {
        "ExecuteTime": {
          "end_time": "2019-12-02T10:20:02.446970Z",
          "start_time": "2019-12-02T10:20:02.322586Z"
        },
        "id": "0mYXk2lHsyYM",
        "colab_type": "code",
        "colab": {}
      },
      "source": [
        "from sklearn.metrics import confusion_matrix\n",
        "\n",
        "print(\"Confusion matrix\")\n",
        "confusion_matrix(train_labels, net.predict(train_images.transpose((0, 3, 1, 2)).astype(np.float32)))"
      ],
      "execution_count": 0,
      "outputs": []
    },
    {
      "cell_type": "markdown",
      "metadata": {
        "id": "m9RoX9LHsyYR",
        "colab_type": "text"
      },
      "source": [
        "## ROC curve\n",
        "\n",
        "The next metric we are computing is the [ROC curve](https://scikit-learn.org/stable/auto_examples/model_selection/plot_roc.html).\n",
        "\n",
        "It used to choose a threshold on the output probability in case you are intesrested in controling the false positive rate."
      ]
    },
    {
      "cell_type": "code",
      "metadata": {
        "ExecuteTime": {
          "end_time": "2019-12-02T10:20:12.250209Z",
          "start_time": "2019-12-02T10:20:12.206501Z"
        },
        "id": "U5Fb2xn5syYS",
        "colab_type": "code",
        "colab": {}
      },
      "source": [
        "from sklearn.metrics import roc_curve, auc\n",
        "\n",
        "# Compute ROC curve and ROC area for each class\n",
        "\n",
        "fpr, tpr, _ = roc_curve(test_labels, net.predict_proba(test_images.transpose((0, 3, 1, 2)).astype(np.float32))[:, 1])\n",
        "roc_auc = auc(fpr, tpr)"
      ],
      "execution_count": 0,
      "outputs": []
    },
    {
      "cell_type": "code",
      "metadata": {
        "ExecuteTime": {
          "end_time": "2019-12-02T10:20:12.717818Z",
          "start_time": "2019-12-02T10:20:12.693609Z"
        },
        "id": "9qDoZeCWsyYX",
        "colab_type": "code",
        "colab": {}
      },
      "source": [
        "plt.figure()\n",
        "lw = 2\n",
        "plt.plot(fpr, tpr, color='darkorange', lw=lw, label='ROC curve (area = %0.2f)' % roc_auc)\n",
        "plt.plot([0, 1], [0, 1], color='navy', lw=lw, linestyle='--')\n",
        "plt.xlim([0.0, 1.0])\n",
        "plt.ylim([0.0, 1.05])\n",
        "plt.xlabel('False Positive Rate')\n",
        "plt.ylabel('True Positive Rate')\n",
        "plt.title('Receiver operating characteristic example')\n",
        "plt.legend(loc=\"lower right\")\n",
        "plt.show()"
      ],
      "execution_count": 0,
      "outputs": []
    },
    {
      "cell_type": "markdown",
      "metadata": {
        "id": "hPS4N1t1syYa",
        "colab_type": "text"
      },
      "source": [
        "## Misclassified examples"
      ]
    },
    {
      "cell_type": "markdown",
      "metadata": {
        "id": "UGdrAhwEsyYc",
        "colab_type": "text"
      },
      "source": [
        "It is always interesting to check mis classified examples.\n",
        "\n",
        "It usually provides tips on how to improve your model."
      ]
    },
    {
      "cell_type": "code",
      "metadata": {
        "ExecuteTime": {
          "end_time": "2019-12-02T10:20:15.240635Z",
          "start_time": "2019-12-02T10:20:15.209278Z"
        },
        "id": "VoixlaNGsyYe",
        "colab_type": "code",
        "colab": {}
      },
      "source": [
        "from itertools import islice\n",
        "\n",
        "misclassified_examples = train_images[net.predict(train_images.transpose(\n",
        "    (0, 3, 1, 2)).astype(np.float32)) != train_labels, ::]\n",
        "\n",
        "plt.figure(figsize=(10, 10))\n",
        "for idx, im in enumerate(islice(misclassified_examples, 0, 8)):\n",
        "    plt.subplot(4, 4, idx + 1)\n",
        "    plt.imshow(im)\n",
        "    plt.axis(\"off\")"
      ],
      "execution_count": 0,
      "outputs": []
    },
    {
      "cell_type": "markdown",
      "metadata": {
        "ExecuteTime": {
          "end_time": "2019-12-02T09:15:49.212291Z",
          "start_time": "2019-12-02T09:15:49.209324Z"
        },
        "id": "7xH7aLugsyYh",
        "colab_type": "text"
      },
      "source": [
        "# Using more advanced features with skorch\n",
        "\n",
        "We will either edit the loop above or write a new fit loop to use advanced features of skorch\n",
        "\n",
        "## Adding callbacks\n",
        "\n",
        "Last time we saw \"callbacks\" such as early stopping. Try to integrate them to the fit loop above.\n",
        "\n",
        "Here are references on \"callbacks\" with skorch:\n",
        "\n",
        "https://nbviewer.jupyter.org/github/skorch-dev/skorch/blob/master/notebooks/Basic_Usage.ipynb\n",
        "\n",
        "https://skorch.readthedocs.io/en/stable/callbacks.html#skorch.callbacks.EarlyStopping\n",
        "\n",
        "```python\n",
        "\n",
        "from skorch.callbacks import EarlyStopping\n",
        "\n",
        "early_stopping = EarlyStopping(scoring='roc_auc', lower_is_better=False)\n",
        "\n",
        "net = NeuralNetClassifier(\n",
        "    ClassifierModule,\n",
        "    max_epochs=20,\n",
        "    lr=0.1,\n",
        "    callbacks=[early_stopping],\n",
        ")\n",
        "```"
      ]
    },
    {
      "cell_type": "code",
      "metadata": {
        "ExecuteTime": {
          "end_time": "2019-12-02T10:20:16.234051Z",
          "start_time": "2019-12-02T10:20:16.230011Z"
        },
        "id": "DrycBK3WsyYj",
        "colab_type": "code",
        "colab": {}
      },
      "source": [
        "# Use callbacks"
      ],
      "execution_count": 0,
      "outputs": []
    },
    {
      "cell_type": "markdown",
      "metadata": {
        "ExecuteTime": {
          "end_time": "2019-12-02T09:16:13.770083Z",
          "start_time": "2019-12-02T09:16:13.761857Z"
        },
        "id": "g-XQRYUDsyYn",
        "colab_type": "text"
      },
      "source": [
        "## [OPTIONAL] Data Augmentation\n",
        "\n",
        "\n",
        "One technique for training CNNs on images is to put your training data through data augmentation to generate similar-but-different examples to make your network more robust.\n",
        "\n",
        "You can generate \"augmented images\" on the fly or use composition to generate data\n",
        "\n",
        "- We are going to wrap our numpy arrays with `torch.utils.data.Dataset` class \n",
        "\n",
        "https://pytorch.org/tutorials/beginner/data_loading_tutorial.html#dataset-class\n",
        "\n",
        "- Here is how we deal with torch.data.Dataset formats with skorch: \n",
        "\n",
        "https://nbviewer.jupyter.org/github/skorch-dev/skorch/blob/master/notebooks/Advanced_Usage.ipynb#Working-with-Datasets\n",
        "\n",
        "- Here is how we use torch Compose to augment data\n",
        "\n",
        "https://pytorch.org/docs/stable/torchvision/transforms.html\n",
        "\n",
        "https://pytorch.org/tutorials/beginner/data_loading_tutorial.html#compose-transforms\n",
        "\n",
        "Note: This step requires a bit of tinkering from numpy arrays to torch datasets, it's fine if you skip it. For the next notebook it may prove a useful way of gaining performance"
      ]
    },
    {
      "cell_type": "code",
      "metadata": {
        "ExecuteTime": {
          "end_time": "2019-12-02T10:20:17.557165Z",
          "start_time": "2019-12-02T10:20:17.502443Z"
        },
        "id": "SsTsEDSGsyYo",
        "colab_type": "code",
        "colab": {}
      },
      "source": [
        "# Add data augmentation\n",
        "import torch.functional\n",
        "import torch.utils\n",
        "import torchvision"
      ],
      "execution_count": 0,
      "outputs": []
    },
    {
      "cell_type": "code",
      "metadata": {
        "ExecuteTime": {
          "end_time": "2019-12-02T10:20:17.996164Z",
          "start_time": "2019-12-02T10:20:17.982106Z"
        },
        "id": "IcXOZ4L6syYr",
        "colab_type": "code",
        "colab": {}
      },
      "source": [
        "class DatasetFromNumpy(torch.utils.data.Dataset):\n",
        "    def __init__(self, array_x, array_y, transform=None):\n",
        "        self.array_x = array_x\n",
        "        self.array_y = array_y\n",
        "        self.transform = transform\n",
        "\n",
        "    def __len__(self):\n",
        "        return self.array_x.shape[0]\n",
        "\n",
        "    def __getitem__(self, idx):\n",
        "        x = self.array_x[idx]\n",
        "        y = self.array_y[idx]\n",
        "        if self.transform is not None:\n",
        "            x = self.transform(x)\n",
        "        else:\n",
        "            x = torch.tensor(x)\n",
        "        y = torch.tensor(y)\n",
        "        return x, y"
      ],
      "execution_count": 0,
      "outputs": []
    },
    {
      "cell_type": "code",
      "metadata": {
        "ExecuteTime": {
          "end_time": "2019-12-02T10:20:18.793356Z",
          "start_time": "2019-12-02T10:20:18.785588Z"
        },
        "id": "_hKwQKuHsyY4",
        "colab_type": "code",
        "colab": {}
      },
      "source": [
        "train_transform = torchvision.transforms.Compose([\n",
        "    torchvision.transforms.ToPILImage(),\n",
        "    torchvision.transforms.RandomHorizontalFlip(p=0.5),\n",
        "    torchvision.transforms.ToTensor(),\n",
        "])"
      ],
      "execution_count": 0,
      "outputs": []
    },
    {
      "cell_type": "code",
      "metadata": {
        "ExecuteTime": {
          "end_time": "2019-12-02T10:20:19.445213Z",
          "start_time": "2019-12-02T10:20:19.439956Z"
        },
        "id": "BDjsnaKOsyY8",
        "colab_type": "code",
        "colab": {}
      },
      "source": [
        "train_ds = DatasetFromNumpy(array_x=train_images, array_y=train_labels, transform=train_transform)"
      ],
      "execution_count": 0,
      "outputs": []
    },
    {
      "cell_type": "code",
      "metadata": {
        "ExecuteTime": {
          "end_time": "2019-12-02T10:20:20.194753Z",
          "start_time": "2019-12-02T10:20:19.958314Z"
        },
        "id": "cQLS0G90syZA",
        "colab_type": "code",
        "colab": {}
      },
      "source": [
        "# Compare effects of data augmentation\n",
        "img_orig = train_images[0]\n",
        "plt.imshow(img_orig)\n",
        "plt.show()\n",
        "# Get image from dataset. Note: it has been converted as a torch tensor in CHW format in float32 normalized !\n",
        "img, label = train_ds[0]\n",
        "img = (img.numpy() * 255.).astype(np.uint8)\n",
        "img = np.rollaxis(img, 0,3)\n",
        "plt.imshow(img)\n",
        "plt.show()"
      ],
      "execution_count": 0,
      "outputs": []
    },
    {
      "cell_type": "code",
      "metadata": {
        "ExecuteTime": {
          "end_time": "2019-12-02T10:26:35.036308Z",
          "start_time": "2019-12-02T10:26:34.994418Z"
        },
        "id": "tVla5VCzsyZD",
        "colab_type": "code",
        "colab": {}
      },
      "source": [
        "# we need to pass train_labels back for train-validation split !\n",
        "# https://nbviewer.jupyter.org/github/skorch-dev/skorch/blob/master/notebooks/Advanced_Usage.ipynb#Working-with-Datasets\n",
        "net.fit(train_ds, y=train_labels)"
      ],
      "execution_count": 0,
      "outputs": []
    },
    {
      "cell_type": "code",
      "metadata": {
        "id": "wCvUp97csyZH",
        "colab_type": "code",
        "colab": {}
      },
      "source": [
        "# plot our metrics again. Did we change something ? (don't forget to normalize data this time !)"
      ],
      "execution_count": 0,
      "outputs": []
    },
    {
      "cell_type": "markdown",
      "metadata": {
        "id": "gV1NoJr-syZL",
        "colab_type": "text"
      },
      "source": [
        "# Next steps before the next notebooks\n",
        "\n",
        "- Try to play with network hyperparameters. The dataset is small and allow fast iterations so use it to have an idea on hyperparameter sensitivity.\n",
        "    number of convolutions, other network structures, learning rates, optimizers,...\n",
        "- Example: Compare again SGD and ADAM\n",
        "- Try to use the ROC curve to select a threshold to filter only negative examples without losing any positive examples\n",
        "\n",
        "\n",
        "When you are done with the warmup, go to the next notebook. But remember that next datasets will be larger and you will not have the time (trainings will take longer ) to experiment on hyperparameters."
      ]
    },
    {
      "cell_type": "code",
      "metadata": {
        "id": "d7aGKxDasyZN",
        "colab_type": "code",
        "colab": {}
      },
      "source": [
        ""
      ],
      "execution_count": 0,
      "outputs": []
    }
  ]
}