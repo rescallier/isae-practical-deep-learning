{
 "cells": [
  {
   "cell_type": "markdown",
   "metadata": {},
   "source": [
    "# Session 1 : Training your first aircraft detector with pytorch\n",
    "\n",
    "**Intro**\n",
    "\n",
    "The objectives of this session is to apply what you learned during [the previous class on Deep Learning](https://github.com/erachelson/MLclass/blob/master/7%20-%20Deep%20Learning/Deep%20Learning.ipynb) on a real dataset of satellite images.\n",
    "\n",
    "Most of the vocabulary and concepts of Deep Learning and Convolutionnal Neural Network has been defined on the notebook linked above so you should refer to it.\n",
    "\n",
    "The objective of the first session is to apply what was detailed above on another dataset using the same tools (base pytorch), on the same low level of abstraction as previously. During section 2 of this BE you will move to higher-level tooling such as [skorch](https://github.com/skorch-dev/skorch)\n",
    "\n",
    "**What we are going to do**"
   ]
  },
  {
   "cell_type": "code",
   "execution_count": null,
   "metadata": {
    "ExecuteTime": {
     "end_time": "2019-12-02T08:19:52.076373Z",
     "start_time": "2019-12-02T08:19:52.073037Z"
    }
   },
   "outputs": [],
   "source": [
    "# install dependencies\n",
    "%pip install skorch"
   ]
  },
  {
   "cell_type": "code",
   "execution_count": null,
   "metadata": {
    "ExecuteTime": {
     "end_time": "2019-12-02T08:19:52.175376Z",
     "start_time": "2019-12-02T08:19:52.080201Z"
    }
   },
   "outputs": [],
   "source": [
    "# Put your imports here\n",
    "import numpy as np"
   ]
  },
  {
   "cell_type": "code",
   "execution_count": null,
   "metadata": {
    "ExecuteTime": {
     "end_time": "2019-12-02T08:19:52.178883Z",
     "start_time": "2019-12-02T08:19:52.177065Z"
    }
   },
   "outputs": [],
   "source": [
    "# Configuration variables\n",
    "TOY_DATASET_URL = \"https://storage.googleapis.com/isae-deep-learning/toy_aircraft_dataset.npz\""
   ]
  },
  {
   "cell_type": "markdown",
   "metadata": {},
   "source": [
    "## Downloading the dataset\n",
    "\n",
    "We will be using [numpy datasources](https://docs.scipy.org/doc/numpy/reference/generated/numpy.DataSource.html?highlight=datasources) to download the dataset. DataSources can be local files or remote files/URLs. The files may also be compressed or uncompressed. DataSource hides some of the low-level details of downloading the file, allowing you to simply pass in a valid file path (or URL) and obtain a file object.\n",
    "\n",
    "The dataset is in npz format which is a packaging format where we store several numpy arrays in key-value format\n",
    "\n",
    "Note:\n",
    "If you get an error with the code below run:\n",
    "```python\n",
    "!gsutil -m cp -r gs://isae-deep-learning/toy_aircraft_dataset.npz /tmp/storage.googleapis.com/isae-deep-learning/toy_aircraft_dataset.npz\n",
    "```\n",
    "in a cell above the cell below"
   ]
  },
  {
   "cell_type": "code",
   "execution_count": null,
   "metadata": {
    "ExecuteTime": {
     "end_time": "2019-12-02T08:19:52.405227Z",
     "start_time": "2019-12-02T08:19:52.180060Z"
    }
   },
   "outputs": [],
   "source": [
    "ds = np.DataSource(destpath=\"/tmp/\")\n",
    "f = ds.open(TOY_DATASET_URL, 'rb')\n",
    "\n",
    "toy_dataset = np.load(f)\n",
    "train_images = toy_dataset['train_images']\n",
    "train_labels = toy_dataset['train_labels']\n",
    "test_images = toy_dataset['test_images']\n",
    "test_labels = toy_dataset['test_labels']"
   ]
  },
  {
   "cell_type": "markdown",
   "metadata": {},
   "source": [
    "## A bit of data exploration"
   ]
  },
  {
   "cell_type": "markdown",
   "metadata": {},
   "source": [
    "Q1. Labels counting\n",
    "a. What is the dataset size ?\n",
    "\n",
    "b. How many images representing aircrafts ?\n",
    "\n",
    "c. How many images representing backgrounds ?\n",
    "\n",
    "d. What are the dimensions (height and width) of the images ? What are the number of channels ?"
   ]
  },
  {
   "cell_type": "markdown",
   "metadata": {},
   "source": [
    "Q2. Can you plot at least 8 examples of each label ? In a 4x4 grid ?"
   ]
  },
  {
   "cell_type": "markdown",
   "metadata": {},
   "source": [
    "Here are some functionnality examples. Try them and make your own. A well-understandood dataset is the key to an efficient model."
   ]
  },
  {
   "cell_type": "code",
   "execution_count": null,
   "metadata": {
    "ExecuteTime": {
     "end_time": "2019-12-02T08:19:52.609875Z",
     "start_time": "2019-12-02T08:19:52.407182Z"
    }
   },
   "outputs": [],
   "source": [
    "import cv2\n",
    "import matplotlib.pyplot as plt\n",
    "\n",
    "%matplotlib inline"
   ]
  },
  {
   "cell_type": "code",
   "execution_count": null,
   "metadata": {
    "ExecuteTime": {
     "end_time": "2019-12-02T08:19:52.615797Z",
     "start_time": "2019-12-02T08:19:52.611766Z"
    }
   },
   "outputs": [],
   "source": [
    "LABEL_NAMES = [\"Not an aircraft\", \"Aircraft\"]\n",
    "\n",
    "print(\"Labels counts :\")\n",
    "\n",
    "for c, l, label in zip(*np.unique(train_labels, return_counts=True), LABEL_NAMES):\n",
    "    print(f\" Label: {label} , value: {l}, count: {c}\")"
   ]
  },
  {
   "cell_type": "code",
   "execution_count": null,
   "metadata": {
    "ExecuteTime": {
     "end_time": "2019-12-02T08:19:52.638917Z",
     "start_time": "2019-12-02T08:19:52.617306Z"
    }
   },
   "outputs": [],
   "source": [
    "for l, label in enumerate(LABEL_NAMES):\n",
    "    print(f\"Examples shape for label {l} : {train_images[train_labels == l, ::].shape}\")"
   ]
  },
  {
   "cell_type": "code",
   "execution_count": null,
   "metadata": {
    "ExecuteTime": {
     "end_time": "2019-12-02T08:19:52.973963Z",
     "start_time": "2019-12-02T08:19:52.640005Z"
    }
   },
   "outputs": [],
   "source": [
    "grid_size = 4\n",
    "grid = np.zeros((grid_size * 64, grid_size * 64, 3)).astype(np.uint8)\n",
    "for i in range(grid_size):\n",
    "    for j in range(grid_size):\n",
    "        tile = np.copy(train_images[i * grid_size + j])\n",
    "        label = np.copy(train_labels[i * grid_size + j])\n",
    "        color = (0, 255, 0) if label == 1 else (255, 0, 0)\n",
    "        tile = cv2.rectangle(tile, (0, 0), (64, 64), color, thickness=2)\n",
    "        grid[i * 64:(i + 1) * 64, j * 64:(j + 1) * 64, :] = tile\n",
    "\n",
    "fig = plt.figure(figsize=(10, 10))\n",
    "ax = fig.add_subplot(1, 1, 1)\n",
    "ax.imshow(grid)\n",
    "plt.show()"
   ]
  },
  {
   "cell_type": "markdown",
   "metadata": {},
   "source": [
    "# Training\n",
    "\n",
    "In order to simplify the code, we will use the [skorch](https://github.com/skorch-dev/skorch) library. It provides a convenient wrapper and avoid the need of re writing the training loop eah time:\n",
    "\n",
    "```python\n",
    "for epoch in range(10):\n",
    "    for batch in batches:\n",
    "        # torch forward\n",
    "        # torch backward\n",
    "```\n",
    "\n",
    "If you still prefer writing your own loop, feel free to overwrite the next cells."
   ]
  },
  {
   "cell_type": "code",
   "execution_count": null,
   "metadata": {
    "ExecuteTime": {
     "end_time": "2019-12-02T08:19:53.621381Z",
     "start_time": "2019-12-02T08:19:52.977404Z"
    }
   },
   "outputs": [],
   "source": [
    "from skorch import NeuralNetClassifier\n",
    "import torch\n",
    "import torch.nn as nn\n",
    "import torch.optim as optim"
   ]
  },
  {
   "cell_type": "code",
   "execution_count": null,
   "metadata": {
    "ExecuteTime": {
     "end_time": "2019-12-02T08:19:53.634873Z",
     "start_time": "2019-12-02T08:19:53.622604Z"
    }
   },
   "outputs": [],
   "source": [
    "# Define the torch model to use\n",
    "# Here a sequential layer is used instead of the classical nn.Module\n",
    "# If you need to write your own modulem plenty of resources are available one the web or in deep learning course\n",
    "module = nn.Sequential(\n",
    "    nn.Conv2d(3, 64, 3),\n",
    "    nn.BatchNorm2d(64),\n",
    "    nn.ReLU(),\n",
    "    nn.MaxPool2d(2),\n",
    "    nn.Conv2d(64, 64, 3),\n",
    "    nn.BatchNorm2d(64),\n",
    "    nn.ReLU(),\n",
    "    nn.MaxPool2d(2),\n",
    "    nn.Conv2d(64, 64, 3),\n",
    "    nn.BatchNorm2d(64),\n",
    "    nn.ReLU(),\n",
    "    nn.MaxPool2d(2),\n",
    "    nn.Flatten(),\n",
    "    nn.Linear(6 * 6 * 64, 256),\n",
    "    nn.Linear(256, 256),\n",
    "    nn.ReLU(),\n",
    "    nn.Linear(256, 2),\n",
    "    nn.Softmax(),\n",
    ")"
   ]
  },
  {
   "cell_type": "code",
   "execution_count": null,
   "metadata": {
    "ExecuteTime": {
     "end_time": "2019-12-02T08:19:53.641969Z",
     "start_time": "2019-12-02T08:19:53.636845Z"
    }
   },
   "outputs": [],
   "source": [
    "# The famous skorch wrapper useful yet not complex and it has a sklearn friendly API\n",
    "\n",
    "net = NeuralNetClassifier(\n",
    "    module,\n",
    "    max_epochs=2,\n",
    "    lr=0.01,\n",
    "    # Shuffle training data on each epoch\n",
    "    iterator_train__shuffle=True,\n",
    "    device=\"cuda\" if torch.cuda.is_available() else \"cpu\",\n",
    "    optimizer=optim.SGD)"
   ]
  },
  {
   "cell_type": "code",
   "execution_count": null,
   "metadata": {
    "ExecuteTime": {
     "end_time": "2019-12-02T08:20:16.319712Z",
     "start_time": "2019-12-02T08:19:53.643166Z"
    }
   },
   "outputs": [],
   "source": [
    "# The training loop\n",
    "# Each epoch should take at most 1 second since we are executing the network on a GPU\n",
    "\n",
    "net.fit(train_images.transpose((0, 3, 1, 2)).astype(np.float32), train_labels)"
   ]
  },
  {
   "cell_type": "markdown",
   "metadata": {},
   "source": [
    "# Testing and metrics\n",
    "\n",
    "Now that we have a trained network, it is important to measure how well it performs.\n",
    "\n",
    "You can refer to your ML course or on resources on the web to see how we can measure it.\n",
    "\n",
    "\n",
    "## Confusion matrix\n",
    "Here, we are first computing the [confusion matrix]():"
   ]
  },
  {
   "cell_type": "code",
   "execution_count": null,
   "metadata": {
    "ExecuteTime": {
     "end_time": "2019-12-02T08:20:20.908034Z",
     "start_time": "2019-12-02T08:20:16.322969Z"
    }
   },
   "outputs": [],
   "source": [
    "from sklearn.metrics import confusion_matrix\n",
    "\n",
    "print(\"Confusion matrix\")\n",
    "confusion_matrix(train_labels, net.predict(train_images.transpose((0, 3, 1, 2)).astype(np.float32)))"
   ]
  },
  {
   "cell_type": "markdown",
   "metadata": {},
   "source": [
    "## Roc curve\n",
    "\n",
    "The next metric we are computing is the [ROC curve](https://scikit-learn.org/stable/auto_examples/model_selection/plot_roc.html).\n",
    "\n",
    "It used to choose a threshold on the output probability in case you are intesrested in controling the false positive rate."
   ]
  },
  {
   "cell_type": "code",
   "execution_count": null,
   "metadata": {
    "ExecuteTime": {
     "end_time": "2019-12-02T08:20:22.310525Z",
     "start_time": "2019-12-02T08:20:20.911038Z"
    }
   },
   "outputs": [],
   "source": [
    "from sklearn.metrics import roc_curve, auc\n",
    "\n",
    "# Compute ROC curve and ROC area for each class\n",
    "\n",
    "fpr, tpr, _ = roc_curve(test_labels, net.predict_proba(test_images.transpose((0, 3, 1, 2)).astype(np.float32))[:, 1])\n",
    "roc_auc = auc(fpr, tpr)"
   ]
  },
  {
   "cell_type": "code",
   "execution_count": null,
   "metadata": {
    "ExecuteTime": {
     "end_time": "2019-12-02T08:20:22.454178Z",
     "start_time": "2019-12-02T08:20:22.311537Z"
    }
   },
   "outputs": [],
   "source": [
    "plt.figure()\n",
    "lw = 2\n",
    "plt.plot(fpr, tpr, color='darkorange', lw=lw, label='ROC curve (area = %0.2f)' % roc_auc)\n",
    "plt.plot([0, 1], [0, 1], color='navy', lw=lw, linestyle='--')\n",
    "plt.xlim([0.0, 1.0])\n",
    "plt.ylim([0.0, 1.05])\n",
    "plt.xlabel('False Positive Rate')\n",
    "plt.ylabel('True Positive Rate')\n",
    "plt.title('Receiver operating characteristic example')\n",
    "plt.legend(loc=\"lower right\")\n",
    "plt.show()"
   ]
  },
  {
   "cell_type": "markdown",
   "metadata": {},
   "source": [
    "## Misclassified examples"
   ]
  },
  {
   "cell_type": "markdown",
   "metadata": {},
   "source": [
    "It is always interesting to check mis classified examples.\n",
    "\n",
    "It usually provides tips on how to improve your model."
   ]
  },
  {
   "cell_type": "code",
   "execution_count": null,
   "metadata": {
    "ExecuteTime": {
     "end_time": "2019-12-02T08:20:26.483525Z",
     "start_time": "2019-12-02T08:20:22.459336Z"
    }
   },
   "outputs": [],
   "source": [
    "from itertools import islice\n",
    "\n",
    "misclassified_examples = train_images[net.predict(train_images.transpose(\n",
    "    (0, 3, 1, 2)).astype(np.float32)) != train_labels, ::]\n",
    "\n",
    "plt.figure(figsize=(10, 10))\n",
    "for idx, im in enumerate(islice(misclassified_examples, 0, 8)):\n",
    "    plt.subplot(4, 4, idx + 1)\n",
    "    plt.imshow(im)\n",
    "    plt.axis(\"off\")"
   ]
  },
  {
   "cell_type": "markdown",
   "metadata": {},
   "source": [
    "# Next steps before the next notebooks\n",
    "\n",
    "- Try to play with network hyperparameters. The dataset is small and allow fast iterations so use it to have an idea on hyperparameter sensitivity.\n",
    "    number of convolutions, other network structures, learning rates, optimizers,...\n",
    "- Try to use the ROC curve to select a threshold to filter only negative examples without losing any positive examples\n",
    "\n",
    "\n",
    "When you are done with the warmup, go to the next notebook. But remember that next datasets will be larger and you will not have the time (trainings will take longer ) to experiment on hyperparameters."
   ]
  }
 ],
 "metadata": {
  "jupytext": {
   "cell_metadata_json": true
  },
  "kernelspec": {
   "display_name": "Python 3",
   "language": "python",
   "name": "python3"
  },
  "language_info": {
   "codemirror_mode": {
    "name": "ipython",
    "version": 3
   },
   "file_extension": ".py",
   "mimetype": "text/x-python",
   "name": "python",
   "nbconvert_exporter": "python",
   "pygments_lexer": "ipython3",
   "version": "3.6.8"
  }
 },
 "nbformat": 4,
 "nbformat_minor": 2
}
